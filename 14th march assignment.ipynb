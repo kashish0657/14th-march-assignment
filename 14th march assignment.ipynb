{
 "cells": [
  {
   "cell_type": "markdown",
   "id": "364d7b7b-3ea8-434f-b1a7-273fbbea59e1",
   "metadata": {},
   "source": [
    "## 14th MARCH ASSIGNMENT"
   ]
  },
  {
   "cell_type": "markdown",
   "id": "4ca3334e-4849-4e4b-a517-f75f2c15457d",
   "metadata": {},
   "source": [
    "## 1:ans:-"
   ]
  },
  {
   "cell_type": "code",
   "execution_count": 7,
   "id": "4d515907-67e9-42be-8bd4-8f6615bd4b53",
   "metadata": {},
   "outputs": [],
   "source": [
    "import scipy.stats as stats\n",
    "import numpy as np\n",
    "\n",
    "def variance_ratio_test(data1, data2):\n",
    "    \"\"\"\n",
    "    Calculates the F-value and corresponding p-value for a variance ratio test.\n",
    "\n",
    "    Arguments:\n",
    "    data1 -- First array of data\n",
    "    data2 -- Second array of data\n",
    "\n",
    "    Returns:\n",
    "    f_value -- F-value for the variance ratio test\n",
    "    p_value -- Corresponding p-value for the test\n",
    "    \"\"\"\n",
    "    # Calculate the variances of the two datasets\n",
    "    var1 = np.var(data1, ddof=1)\n",
    "    var2 = np.var(data2, ddof=1)\n",
    "\n",
    "    # Calculate the F-value\n",
    "    f_value = var1 / var2\n",
    "\n",
    "    # Calculate the degrees of freedom\n",
    "    dof1 = len(data1) - 1\n",
    "    dof2 = len(data2) - 1\n",
    "\n",
    "    # Calculate the p-value using the F-distribution\n",
    "    p_value = stats.f.sf(f_value, dof1, dof2)\n",
    "\n",
    "    return f_value, p_value\n"
   ]
  },
  {
   "cell_type": "code",
   "execution_count": 8,
   "id": "d0b972ee-cfd9-4876-9835-2f4ff97af710",
   "metadata": {},
   "outputs": [
    {
     "name": "stdout",
     "output_type": "stream",
     "text": [
      "F-value: 0.25\n",
      "p-value: 0.896\n"
     ]
    }
   ],
   "source": [
    "data1 = [1, 2, 3, 4, 5]\n",
    "data2 = [2, 4, 6, 8, 10]\n",
    "\n",
    "f_value, p_value = variance_ratio_test(data1, data2)\n",
    "print(\"F-value:\", f_value)\n",
    "print(\"p-value:\", p_value)\n"
   ]
  },
  {
   "cell_type": "markdown",
   "id": "1daf3389-6758-4d44-a70d-69aac48071a3",
   "metadata": {},
   "source": [
    "## 2:ans:-"
   ]
  },
  {
   "cell_type": "code",
   "execution_count": 9,
   "id": "436f0750-9c02-4b01-a61d-788ba50a4722",
   "metadata": {},
   "outputs": [],
   "source": [
    "from scipy.stats import f\n",
    "\n",
    "def get_critical_f_value(alpha, df_num, df_den):\n",
    "    # Calculate the critical F-value\n",
    "    critical_f = f.ppf(1 - alpha/2, df_num, df_den)\n",
    "    return critical_f\n"
   ]
  },
  {
   "cell_type": "code",
   "execution_count": 10,
   "id": "cf93735d-785f-4914-a8a9-89f51b9d3c32",
   "metadata": {},
   "outputs": [
    {
     "name": "stdout",
     "output_type": "stream",
     "text": [
      "Critical F-value: 3.8586986662732143\n"
     ]
    }
   ],
   "source": [
    "alpha = 0.05\n",
    "df_num = 3\n",
    "df_den = 20\n",
    "\n",
    "critical_f_value = get_critical_f_value(alpha, df_num, df_den)\n",
    "print(\"Critical F-value:\", critical_f_value)\n"
   ]
  },
  {
   "cell_type": "markdown",
   "id": "437f7388-a732-4a3e-807c-21be26973b36",
   "metadata": {},
   "source": [
    "## 3:ans:-"
   ]
  },
  {
   "cell_type": "code",
   "execution_count": 1,
   "id": "3f775986-5af8-4565-9b0b-95d95dcb4ccf",
   "metadata": {},
   "outputs": [
    {
     "name": "stdout",
     "output_type": "stream",
     "text": [
      "F-value: 1.0000000000000004\n",
      "Degrees of freedom (numerator): 49\n",
      "Degrees of freedom (denominator): 59\n",
      "P-value: 0.5033747843909372\n"
     ]
    }
   ],
   "source": [
    "import numpy as np\n",
    "from scipy.stats import f\n",
    "\n",
    "def perform_f_test(sample1, sample2, var1, var2):\n",
    "    \"\"\"\n",
    "    Perform F-test to compare variances of two samples.\n",
    "    \n",
    "    Arguments:\n",
    "    sample1 -- Sample 1 (numpy array or list)\n",
    "    sample2 -- Sample 2 (numpy array or list)\n",
    "    var1 -- Known variance of sample 1\n",
    "    var2 -- Known variance of sample 2\n",
    "    \n",
    "    Returns:\n",
    "    f_value -- F-value\n",
    "    dof1 -- Degrees of freedom for numerator\n",
    "    dof2 -- Degrees of freedom for denominator\n",
    "    p_value -- p-value\n",
    "    \"\"\"\n",
    "    n1 = len(sample1)\n",
    "    n2 = len(sample2)\n",
    "    \n",
    "    dof1 = n1 - 1\n",
    "    dof2 = n2 - 1\n",
    "    \n",
    "    s1 = np.sqrt(var1)\n",
    "    s2 = np.sqrt(var2)\n",
    "    \n",
    "    f_value = (s1**2 / var1) / (s2**2 / var2)\n",
    "    p_value = f.cdf(f_value, dof1, dof2)\n",
    "    \n",
    "    return f_value, dof1, dof2, p_value\n",
    "\n",
    "# Generate random samples\n",
    "np.random.seed(123)\n",
    "sample1 = np.random.normal(10, 2, 50)  # Sample 1 with mean=10, variance=2\n",
    "sample2 = np.random.normal(10, 3, 60)  # Sample 2 with mean=10, variance=3\n",
    "\n",
    "# Known variances\n",
    "var1 = 2\n",
    "var2 = 3\n",
    "\n",
    "# Perform F-test\n",
    "f_value, dof1, dof2, p_value = perform_f_test(sample1, sample2, var1, var2)\n",
    "\n",
    "# Print results\n",
    "print(\"F-value:\", f_value)\n",
    "print(\"Degrees of freedom (numerator):\", dof1)\n",
    "print(\"Degrees of freedom (denominator):\", dof2)\n",
    "print(\"P-value:\", p_value)\n"
   ]
  },
  {
   "cell_type": "markdown",
   "id": "1d9b3abb-0220-4500-b021-97814a9eaa1e",
   "metadata": {},
   "source": [
    "## 4:ans:-"
   ]
  },
  {
   "cell_type": "code",
   "execution_count": null,
   "id": "93d128f3-ca32-488b-9ee9-5de8c9fbb503",
   "metadata": {},
   "outputs": [],
   "source": [
    "To conduct the F-test for comparing the variances of two populations, we can follow these steps:\n",
    "\n",
    "Step 1: State the hypotheses:\n",
    "\n",
    "Null hypothesis (H0): The variances of the two populations are equal.\n",
    "Alternative hypothesis (H1): The variances of the two populations are significantly different.\n",
    "Step 2: Determine the significance level (α):\n",
    "In this case, the significance level is given as 5%, which corresponds to α = 0.05.\n",
    "\n",
    "Step 3: Compute the F-statistic:\n",
    "The F-statistic is calculated as the ratio of the sample variances:\n",
    "F = s1^2 / s2^2\n",
    "\n",
    "Where s1^2 is the sample variance of the first population and s2^2 is the sample variance of the second population.\n",
    "\n",
    "Step 4: Determine the critical value:\n",
    "The critical value is obtained from the F-distribution table or a statistical software using the degrees of freedom\n",
    "for each sample. For the F-test, the degrees of freedom for the numerator (sample 1) is (n1 - 1) and the degrees of \n",
    "freedom for the denominator (sample 2) is (n2 - 1), where n1 and n2 are the sample sizes.\n",
    "\n",
    "Step 5: Compare the computed F-statistic with the critical value:\n",
    "If the computed F-statistic is greater than the critical value, we reject the null hypothesis and conclude that the \n",
    "variances are significantly different. Otherwise, if the computed F-statistic is less than or equal to the critical \n",
    "value, we fail to reject the null hypothesis and conclude that there is not enough evidence to suggest a significant\n",
    "difference in the variances.\n",
    "\n",
    "Let's calculate the F-statistic using the given information:\n",
    "\n",
    "Sample 1:\n",
    "Variance of population 1 (σ1^2) = 10\n",
    "Sample size of population 1 (n1) = 12\n",
    "\n",
    "Sample 2:\n",
    "Variance of population 2 (σ2^2) = 15\n",
    "Sample size of population 2 (n2) = 12\n",
    "\n",
    "Degrees of freedom for numerator = n1 - 1 = 12 - 1 = 11\n",
    "Degrees of freedom for denominator = n2 - 1 = 12 - 1 = 11\n",
    "\n",
    "F = s1^2 / s2^2\n",
    "\n",
    "Since the variances of the populations are known, we can use them as the sample variances directly:\n",
    "\n",
    "F = 10 / 15 = 0.6667\n",
    "\n",
    "Step 6: Compare the computed F-statistic with the critical value:\n",
    "To determine the critical value, we need to consult the F-distribution table or use a statistical software with\n",
    "the degrees of freedom values (11 and 11) and the significance level (α = 0.05).\n",
    "\n",
    "Assuming the critical value is F_critical = 2.59 (hypothetical value for illustration purposes only), we compare\n",
    "it with the computed F-statistic.\n",
    "\n",
    "Since 0.6667 < 2.59, we fail to reject the null hypothesis.\n",
    "\n",
    "Step 7: Make a conclusion:\n",
    "Based on the F-test at the 5% significance level, we do not have enough evidence to conclude that the variances of the\n",
    "two populations are significantly different.\n"
   ]
  },
  {
   "cell_type": "markdown",
   "id": "7019d587-2ae3-42aa-8d42-959cbcf9b597",
   "metadata": {},
   "source": [
    "## 5:ans:-"
   ]
  },
  {
   "cell_type": "code",
   "execution_count": null,
   "id": "1fdc23bb-253c-4cfe-ab4a-84fc83d11a8a",
   "metadata": {},
   "outputs": [],
   "source": [
    "To determine if the manufacturer's claim is justified, we can conduct an F-test to compare the sample variance to\n",
    "the claimed variance. Here's how you can perform the F-test at the 1% significance level:\n",
    "\n",
    "Step 1: State the hypotheses:\n",
    "\n",
    "Null hypothesis (H₀): The population variance is equal to 0.05 (σ² = 0.05).\n",
    "Alternative hypothesis (H₁): The population variance is not equal to 0.05 (σ² ≠ 0.05).\n",
    "Step 2: Set the significance level (α):\n",
    "In this case, the significance level is 1% or 0.01.\n",
    "\n",
    "Step 3: Calculate the test statistic:\n",
    "The F-test statistic formula is:\n",
    "\n",
    "F = (sample variance) / (claimed variance)\n",
    "\n",
    "In this case, the sample variance is 0.008 and the claimed variance is 0.05.\n",
    "\n",
    "F = 0.008 / 0.05\n",
    "F = 0.16\n",
    "\n",
    "Step 4: Determine the critical value:\n",
    "To determine the critical value for the F-test, we need to consider the degrees of freedom. For the numerator\n",
    "degrees of freedom, we have n₁ - 1 (sample size minus 1), and for the denominator degrees of freedom, we have \n",
    "n₂ - 1 (sample size minus 1).\n",
    "\n",
    "In this case, the sample size is 25, so we have 25 - 1 = 24 degrees of freedom for both numerator and denominator.\n",
    "\n",
    "Using a statistical table or calculator, we find that at a significance level of 0.01 and degrees of freedom (24, 24),\n",
    "the critical values are approximately 0.405 (lower critical value) and 2.481 (upper critical value).\n",
    "\n",
    "Step 5: Make a decision:\n",
    "If the test statistic falls within the critical region (i.e., it is less than the lower critical value or greater than \n",
    "the upper critical value), we reject the null hypothesis. Otherwise, we fail to reject the null hypothesis.\n",
    "\n",
    "In this case, the test statistic F = 0.16 does not fall within the critical region (0.16 < 0.405). Therefore, we fail\n",
    "to reject the null hypothesis.\n",
    "\n",
    "Step 6: State the conclusion:\n",
    "Based on the F-test conducted at the 1% significance level, there is not enough evidence to reject the manufacturer's \n",
    "claim that the variance of the diameter of the certain product is 0.05.\n",
    "\n"
   ]
  },
  {
   "cell_type": "markdown",
   "id": "b4103ad5-e6a5-4f84-8219-06442cbe27b0",
   "metadata": {},
   "source": [
    "## 6:ans:-"
   ]
  },
  {
   "cell_type": "code",
   "execution_count": 2,
   "id": "3af05cda-942f-4cff-92a5-dda709877e4c",
   "metadata": {},
   "outputs": [],
   "source": [
    "def f_distribution_mean_variance(df_numerator, df_denominator):\n",
    "    \"\"\"\n",
    "    Calculates the mean and variances of an F-distribution.\n",
    "\n",
    "    Args:\n",
    "        df_numerator (int): Degrees of freedom for the numerator.\n",
    "        df_denominator (int): Degrees of freedom for the denominator.\n",
    "\n",
    "    Returns:\n",
    "        tuple: Mean and variances of the F-distribution.\n",
    "    \"\"\"\n",
    "    # Mean calculation\n",
    "    if df_denominator > 2:\n",
    "        mean = df_denominator / (df_denominator - 2)\n",
    "    else:\n",
    "        mean = float('inf')\n",
    "\n",
    "    # Variance calculation\n",
    "    if df_denominator > 4:\n",
    "        variance = (2 * (df_denominator ** 2) * (df_numerator + df_denominator - 2)) /\n",
    "        ((df_numerator * (df_denominator - 2) ** 2 * (df_denominator - 4)))\n",
    "    else:\n",
    "        variance = float('inf')\n",
    "\n",
    "    return mean, variance\n"
   ]
  },
  {
   "cell_type": "markdown",
   "id": "a92246ba-596d-4197-84b3-81a80d1e29c0",
   "metadata": {},
   "source": [
    "## 7:ans:-"
   ]
  },
  {
   "cell_type": "code",
   "execution_count": null,
   "id": "9842fbfb-e5e2-4f8f-aac8-a3153b3c8839",
   "metadata": {},
   "outputs": [],
   "source": [
    "To conduct an F-test to determine if the variances are significantly different, we compare the variances of the \n",
    "two samples using the F-statistic. Here's how you can perform the F-test at the 10% significance level:\n",
    "\n",
    "Step 1: State the null hypothesis (H₀) and the alternative hypothesis (H₁):\n",
    "\n",
    "Null hypothesis (H₀): The variances of the two populations are equal.\n",
    "Alternative hypothesis (H₁): The variances of the two populations are significantly different.\n",
    "Step 2: Calculate the F-statistic:\n",
    "The F-statistic is calculated by dividing the larger sample variance by the smaller sample variance:\n",
    "\n",
    "F = Larger sample variance / Smaller sample variance\n",
    "\n",
    "In this case, the larger sample variance is 25, and the smaller sample variance is 20:\n",
    "\n",
    "F = 25 / 20\n",
    "F = 1.25\n",
    "\n",
    "Step 3: Determine the critical value:\n",
    "To compare the F-statistic against the critical value, we need to look up the critical value from an F-distribution\n",
    "table or use statistical software. Since the significance level is 10%, the degrees of freedom for the numerator and\n",
    "denominator are (10 - 1) = 9 and (15 - 1) = 14, respectively.\n",
    "\n",
    "Looking up the critical value in the F-distribution table for a significance level of 0.10 and numerator and denominator\n",
    "degrees of freedom (9, 14), we find the critical value to be approximately 2.41.\n",
    "\n",
    "Step 4: Compare the F-statistic with the critical value:\n",
    "If the F-statistic is greater than the critical value, we reject the null hypothesis in favor of the alternative\n",
    "hypothesis. Otherwise, we fail to reject the null hypothesis.\n",
    "\n",
    "In this case, since F = 1.25 is less than the critical value of 2.41, we fail to reject the null hypothesis.\n",
    "\n",
    "Step 5: Interpret the result:\n",
    "Based on the F-test conducted at the 10% significance level, there is not enough evidence to conclude that the variances\n",
    "of the two populations are significantly different. Therefore, we do not have sufficient evidence to suggest that the\n",
    "variances are different.\n",
    "\n",
    "Remember that failing to reject the null hypothesis does not imply that the variances are equal, but rather that there \n",
    "is insufficient evidence to suggest otherwise.\n"
   ]
  },
  {
   "cell_type": "markdown",
   "id": "56ac0662-cb41-4f33-9b4d-108c2c5c4fc3",
   "metadata": {},
   "source": [
    "## 8:ans:-"
   ]
  },
  {
   "cell_type": "code",
   "execution_count": null,
   "id": "eeef1124-5d2e-4d41-b260-43be0277b0c3",
   "metadata": {},
   "outputs": [],
   "source": [
    "To conduct an F-test to determine if the variances of two samples are significantly different, we need to follow these steps:\n",
    "\n",
    "Step 1: State the null and alternative hypotheses:\n",
    "\n",
    "Null hypothesis (H₀): The variances of the two samples are equal.\n",
    "Alternative hypothesis (H₁): The variances of the two samples are significantly different.\n",
    "Step 2: Calculate the variances of each sample.\n",
    "\n",
    "For Restaurant A:\n",
    "Sample A: 24, 25, 28, 23, 22, 20, 27\n",
    "Sample A variance (s₁²): Sum of squared deviations from the mean divided by (n₁ - 1)\n",
    "\n",
    "For Restaurant B:\n",
    "Sample B: 31, 33, 35, 30, 32, 36\n",
    "Sample B variance (s₂²): Sum of squared deviations from the mean divided by (n₂ - 1)\n",
    "\n",
    "Step 3: Calculate the F-statistic.\n",
    "\n",
    "F-statistic = s₁² / s₂²\n",
    "Step 4: Determine the critical value.\n",
    "\n",
    "With an alpha level (significance level) of 0.10 (10%), and degrees of freedom for both samples equal to n₁ - 1 and n₂ - 1,\n",
    "respectively, we can consult an F-table or use a statistical software to find the critical value.\n",
    "Step 5: Compare the F-statistic with the critical value.\n",
    "\n",
    "If the F-statistic is greater than the critical value, we reject the null hypothesis and conclude that the variances are \n",
    "significantly different.\n",
    "If the F-statistic is less than or equal to the critical value, we fail to reject the null hypothesis and conclude \n",
    "that the variances are not significantly different.\n",
    "Let's calculate the F-test for the provided data:\n",
    "\n",
    "Step 2: Calculate the variances:\n",
    "Sample A variance (s₁²) = (24-24.57)² + (25-24.57)² + (28-24.57)² + (23-24.57)² + (22-24.57)² + (20-24.57)² + \n",
    "(27-24.57)² / (7-1) ≈ 8.81\n",
    "Sample B variance (s₂²) = (31-32.83)² + (33-32.83)² + (35-32.83)² + (30-32.83)² + (32-32.83)² + (36-32.83)² / (6-1) ≈ 6.57\n",
    "\n",
    "Step 3: Calculate the F-statistic:\n",
    "F-statistic = s₁² / s₂² = 8.81 / 6.57 ≈ 1.34\n",
    "\n",
    "Step 4: Determine the critical value:\n",
    "Since the degrees of freedom for Sample A and Sample B are 6 and 5, respectively, and the significance level is 0.10,\n",
    "we can find the critical value using an F-table or statistical software. The critical value for an F-distribution with\n",
    "6 and 5 degrees of freedom at a 10% significance level is approximately 4.75.\n",
    "\n",
    "Step 5: Compare the F-statistic with the critical value:\n",
    "Since the F-statistic (1.34) is less than the critical value (4.75), we fail to reject the null hypothesis.\n",
    "Therefore, we conclude that the variances of the two samples are not significantly different at the 10% significance level.\n",
    "\n",
    "In summary, based on the F-test conducted at the 10% significance level, there is not enough evidence to suggest that\n",
    "the variances of the waiting times in the two restaurants (A and B) are significantly\n"
   ]
  },
  {
   "cell_type": "markdown",
   "id": "bf79256a-cf71-4eba-9337-a0ac0fc6985a",
   "metadata": {},
   "source": [
    "## 9:ans:-"
   ]
  },
  {
   "cell_type": "code",
   "execution_count": null,
   "id": "a99b8017-16dd-4ee9-955b-b7e84efad13e",
   "metadata": {},
   "outputs": [],
   "source": [
    "To conduct an F-test to determine if the variances of two groups are significantly different, we need to follow these steps:\n",
    "\n",
    "Step 1: State the null and alternative hypotheses:\n",
    "\n",
    "Null hypothesis (H0): The variances of both groups are equal.\n",
    "Alternative hypothesis (HA): The variances of both groups are significantly different.\n",
    "Step 2: Set the significance level:\n",
    "In this case, the significance level is given as 1%, which means α = 0.01.\n",
    "\n",
    "Step 3: Calculate the test statistic:\n",
    "The F-test statistic is calculated as the ratio of the larger sample variance to the smaller sample variance.\n",
    "In this case, let's assume Group A has the larger variance and Group B has the smaller variance.\n",
    "\n",
    "Group A: 80, 85, 90, 92, 87, 83\n",
    "Sample variance of Group A (s1^2) = ((80-86.17)^2 + (85-86.17)^2 + (90-86.17)^2 + (92-86.17)^2 + (87-86.17)^2 +\n",
    "                                     (83-86.17)^2) / (6-1) = 18.67\n",
    "\n",
    "Group B: 75, 78, 82, 79, 81, 84\n",
    "Sample variance of Group B (s2^2) = ((75-80)^2 + (78-80)^2 + (82-80)^2 + (79-80)^2 + (81-80)^2 + (84-80)^2) / (6-1) = 5.33\n",
    "\n",
    "F-test statistic = s1^2 / s2^2 = 18.67 / 5.33 = 3.50\n",
    "\n",
    "Step 4: Determine the critical value:\n",
    "To determine the critical value, we need to consult the F-distribution table or use statistical software.\n",
    "Since we are testing at a 1% significance level, with (n1 - 1) = 5 and (n2 - 1) = 5 degrees of freedom, the critical\n",
    "value for an upper-tail test is approximately F(0.99, 5, 5) = 6.94.\n",
    "\n",
    "Step 5: Compare the test statistic with the critical value:\n",
    "Since the test statistic (F-test statistic = 3.50) is smaller than the critical value (6.94), we do not reject the null hypothesis.\n",
    "\n",
    "Step 6: Make a conclusion:\n",
    "Based on the F-test, at the 1% significance level, there is not enough evidence to conclude that the variances of the two groups are significantly different.\n",
    "\n",
    "\n",
    "\n",
    "\n",
    "\n",
    "\n"
   ]
  }
 ],
 "metadata": {
  "kernelspec": {
   "display_name": "Python 3 (ipykernel)",
   "language": "python",
   "name": "python3"
  },
  "language_info": {
   "codemirror_mode": {
    "name": "ipython",
    "version": 3
   },
   "file_extension": ".py",
   "mimetype": "text/x-python",
   "name": "python",
   "nbconvert_exporter": "python",
   "pygments_lexer": "ipython3",
   "version": "3.10.8"
  }
 },
 "nbformat": 4,
 "nbformat_minor": 5
}
